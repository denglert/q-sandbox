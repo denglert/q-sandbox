{
 "cells": [
  {
   "cell_type": "code",
   "execution_count": 0,
   "metadata": {},
   "outputs": [
    {
     "ename": "\u001b[0;31mnyi\u001b[0m",
     "evalue": "\u001b[0;31mnyi\u001b[0m",
     "output_type": "error",
     "traceback": [
      "\u001b[0;31mevaluation error:\n\u001b[0m",
      "\u001b[0;31mnyi\u001b[0m",
      "\u001b[0;31m\u001b[0m",
      "\u001b[0;31m  [2]  (.h.xt)\n\n\u001b[0m",
      "\u001b[0;31m  [1]  (/Users/edy/lib/build/anaconda/envs/q/q/q.k:61)\n\n\u001b[0m",
      "\u001b[0;31m  [0]  load `:t.csv\n       ^\n\u001b[0m"
     ]
    }
   ],
   "source": [
    "load `:t.csv"
   ]
  },
  {
   "cell_type": "code",
   "execution_count": null,
   "metadata": {},
   "outputs": [],
   "source": []
  }
 ],
 "metadata": {
  "kernelspec": {
   "display_name": "Q (kdb+)",
   "language": "q",
   "name": "qpk"
  },
  "language_info": {
   "file_extension": ".q",
   "mimetype": "text/x-q",
   "name": "q",
   "version": "3.6.0"
  }
 },
 "nbformat": 4,
 "nbformat_minor": 2
}
