{
 "cells": [
  {
   "cell_type": "markdown",
   "metadata": {},
   "source": [
    "# Callbacks"
   ]
  },
  {
   "cell_type": "markdown",
   "metadata": {},
   "source": [
    "- [Introduction to kdb+ and q #14: Callbacks (*)](https://www.youtube.com/watch?v=0vvw-aB0Jt8)"
   ]
  },
  {
   "cell_type": "markdown",
   "metadata": {},
   "source": [
    "## Instructions\n",
    "\n",
    "In order to proceed through this notebook you first need to:\n",
    "\n",
    "1. Open up a separate `q` process in the background. This will act as the server.\n",
    "\n",
    "2. Open the 4242 port with\n",
    "    ~~~~\n",
    "    \\p 4242\n",
    "    ~~~~\n",
    "    \n",
    "3. On the server create three functions `cub3`, `cub3zw` and `worker`:\n",
    "\n",
    "    ~~~~\n",
    "    cub3:{0N!x*x*x}\n",
    "    cub3zw:{0N!.z.w; x*x*x}\n",
    "    worker:{[arg; callback] r:cub3 arg; (neg .z.w) (callback; r)}\n",
    "    ~~~~\n",
    "    \n",
    "    \n",
    "**Alternatively**\n",
    "\n",
    "Execute `14-callbacks-server.q`.\n",
    "\n",
    "~~~~\n",
    "q 14-callbacks-server.q\n",
    "~~~~"
   ]
  },
  {
   "cell_type": "markdown",
   "metadata": {},
   "source": [
    "**Previously:**\n",
    "\n",
    "Only ***synchronous calls***:\n",
    "\n",
    "1. Client sends request.\n",
    "2. Server receives request. (Client is waiting)\n",
    "3. Server executes the request. (Client is waiting)\n",
    "4. Server finishes. (Client is waiting)\n",
    "5. Server sends back answer. (Client is waiting)\n",
    "6. Client receives reply. Client moves on to the next instruction\n",
    "\n",
    "***Asynchronous calls:***\n",
    "\n",
    "1. Client sends request. Client moves on to the next instruction.\n",
    "\n",
    "Example:\n",
    "- Remote logging process. Client sends log message to server, it doesn't need to wait for reply."
   ]
  },
  {
   "cell_type": "markdown",
   "metadata": {},
   "source": [
    "**Connect to server**"
   ]
  },
  {
   "cell_type": "markdown",
   "metadata": {},
   "source": [
    "Symbolic handle specifying the port:\n",
    "\n",
    "~~~~\n",
    "`:localhost:4242\n",
    "~~~~"
   ]
  },
  {
   "cell_type": "code",
   "execution_count": 1,
   "metadata": {},
   "outputs": [],
   "source": [
    "h: hopen `:localhost:4242"
   ]
  },
  {
   "cell_type": "markdown",
   "metadata": {},
   "source": [
    "`hopen` returns an integer `h`"
   ]
  },
  {
   "cell_type": "code",
   "execution_count": 2,
   "metadata": {},
   "outputs": [
    {
     "data": {
      "text/plain": [
       "5i\n"
      ]
     },
     "execution_count": 2,
     "metadata": {},
     "output_type": "execute_result"
    }
   ],
   "source": [
    "h"
   ]
  },
  {
   "cell_type": "code",
   "execution_count": 3,
   "metadata": {},
   "outputs": [
    {
     "data": {
      "text/plain": [
       "-6h\n"
      ]
     },
     "execution_count": 3,
     "metadata": {},
     "output_type": "execute_result"
    }
   ],
   "source": [
    "type h"
   ]
  },
  {
   "cell_type": "markdown",
   "metadata": {},
   "source": [
    "It acts as a function, see below."
   ]
  },
  {
   "cell_type": "markdown",
   "metadata": {},
   "source": [
    "**Synchronous call**"
   ]
  },
  {
   "cell_type": "code",
   "execution_count": 4,
   "metadata": {},
   "outputs": [
    {
     "data": {
      "text/plain": [
       "125\n"
      ]
     },
     "execution_count": 4,
     "metadata": {},
     "output_type": "execute_result"
    }
   ],
   "source": [
    "h (`cub3; 5)"
   ]
  },
  {
   "cell_type": "markdown",
   "metadata": {},
   "source": [
    "or explicitly (you might need to change this number on your machine)"
   ]
  },
  {
   "cell_type": "code",
   "execution_count": 10,
   "metadata": {},
   "outputs": [],
   "source": [
    "//5i (`cub3; 5)"
   ]
  },
  {
   "cell_type": "markdown",
   "metadata": {},
   "source": [
    "**Asynchronous call**"
   ]
  },
  {
   "cell_type": "markdown",
   "metadata": {},
   "source": [
    "You can make an asynchronous call by calling the negative of the integer corresponding to the connection."
   ]
  },
  {
   "cell_type": "code",
   "execution_count": 5,
   "metadata": {},
   "outputs": [
    {
     "data": {
      "text/plain": [
       "-5i\n"
      ]
     },
     "execution_count": 5,
     "metadata": {},
     "output_type": "execute_result"
    }
   ],
   "source": [
    "neg h"
   ]
  },
  {
   "cell_type": "code",
   "execution_count": 6,
   "metadata": {},
   "outputs": [],
   "source": [
    "(neg h) (`cub3; 5)"
   ]
  },
  {
   "cell_type": "markdown",
   "metadata": {},
   "source": [
    "or explicitly (you might need to change this number on your machine)"
   ]
  },
  {
   "cell_type": "code",
   "execution_count": 11,
   "metadata": {},
   "outputs": [],
   "source": [
    "//-5i (`cub3; 5)"
   ]
  },
  {
   "cell_type": "markdown",
   "metadata": {},
   "source": [
    "**Callback:**\n",
    "\n",
    "The server ''calls'' back to the client with whatever result it has got."
   ]
  },
  {
   "cell_type": "markdown",
   "metadata": {},
   "source": [
    "`q` doesn't have a built-in callback mechanism.\n",
    "\n",
    "We are going to build one here."
   ]
  },
  {
   "cell_type": "markdown",
   "metadata": {},
   "source": [
    "We"
   ]
  },
  {
   "cell_type": "markdown",
   "metadata": {},
   "source": [
    "`q` system variable `.z.w`"
   ]
  },
  {
   "cell_type": "code",
   "execution_count": 7,
   "metadata": {},
   "outputs": [],
   "source": [
    "(neg h) (`cub3zw; 5)"
   ]
  },
  {
   "cell_type": "code",
   "execution_count": 8,
   "metadata": {},
   "outputs": [],
   "source": [
    "continue:{0N!x}"
   ]
  },
  {
   "cell_type": "code",
   "execution_count": 9,
   "metadata": {},
   "outputs": [
    {
     "name": "stdout",
     "output_type": "stream",
     "text": [
      "125\n"
     ]
    }
   ],
   "source": [
    "(neg h) (`worker; 5; `continue)"
   ]
  },
  {
   "cell_type": "markdown",
   "metadata": {},
   "source": [
    "**Reminder:**\n",
    "\n",
    "Definition of the `worker` function:\n",
    "\n",
    "~~~~\n",
    "worker:{[arg; callback] r:cub3 arg; (neg .z.w) (callback; r)}\n",
    "~~~~"
   ]
  }
 ],
 "metadata": {
  "kernelspec": {
   "display_name": "Q (kdb+)",
   "language": "q",
   "name": "qpk"
  },
  "language_info": {
   "file_extension": ".q",
   "mimetype": "text/x-q",
   "name": "q",
   "version": "3.6.0"
  }
 },
 "nbformat": 4,
 "nbformat_minor": 2
}
