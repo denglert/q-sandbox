{
 "cells": [
  {
   "cell_type": "markdown",
   "metadata": {},
   "source": [
    "# Complex qSQL queries"
   ]
  },
  {
   "cell_type": "markdown",
   "metadata": {},
   "source": [
    "**References:**\n",
    "- [Introduction to kdb+ and q #12: Complex Queries (*)](https://www.youtube.com/watch?v=DAy2yKSt0fc)\n",
    "- https://code.kx.com/wiki/Reference/wavg\n",
    "- https://code.kx.com/wiki/Reference/xbar"
   ]
  },
  {
   "cell_type": "markdown",
   "metadata": {},
   "source": [
    "## `wavg`"
   ]
  },
  {
   "cell_type": "markdown",
   "metadata": {},
   "source": [
    "The `wavg` verb returns the average of its right argument weighted by its left argument. The result is floating point. "
   ]
  },
  {
   "cell_type": "code",
   "execution_count": 7,
   "metadata": {},
   "outputs": [
    {
     "data": {
      "text/plain": [
       "wavg[{[gh;h;x]if[10=type u:gh[h]x;-2 u]}[{[h;x]$[i.isf x;h x;i.isw x;h x`.;i...\n"
      ]
     },
     "execution_count": 7,
     "metadata": {},
     "output_type": "execute_result"
    }
   ],
   "source": [
    "help wavg"
   ]
  },
  {
   "cell_type": "code",
   "execution_count": 1,
   "metadata": {},
   "outputs": [
    {
     "data": {
      "text/plain": [
       "20f\n"
      ]
     },
     "execution_count": 1,
     "metadata": {},
     "output_type": "execute_result"
    }
   ],
   "source": [
    "4 3 2 1 wavg 10 20 30 40"
   ]
  },
  {
   "cell_type": "markdown",
   "metadata": {},
   "source": [
    "## `xbar`"
   ]
  },
  {
   "cell_type": "markdown",
   "metadata": {},
   "source": [
    "The `xbar` verb rounds its right argument down to the nearest multiple of the integer left argument. The right argument can be any numeric or temporal type. "
   ]
  },
  {
   "cell_type": "code",
   "execution_count": 5,
   "metadata": {},
   "outputs": [
    {
     "data": {
      "text/plain": [
       "k){x*y div x:$[16h=abs[@x];\"j\"$x;x]}[{[gh;h;x]if[10=type u:gh[h]x;-2 u]}[{[h;..\n"
      ]
     },
     "execution_count": 5,
     "metadata": {},
     "output_type": "execute_result"
    }
   ],
   "source": [
    "help xbar"
   ]
  },
  {
   "cell_type": "code",
   "execution_count": 6,
   "metadata": {},
   "outputs": [
    {
     "data": {
      "text/plain": [
       "0 0 0 0 0 5 10 10 20\n"
      ]
     },
     "execution_count": 6,
     "metadata": {},
     "output_type": "execute_result"
    }
   ],
   "source": [
    "5 xbar 0 1 2 3 4 5 10 11 21"
   ]
  },
  {
   "cell_type": "markdown",
   "metadata": {},
   "source": [
    "---------------"
   ]
  },
  {
   "cell_type": "markdown",
   "metadata": {},
   "source": [
    "## Determining maximum idealised profit (maximum drawdown)"
   ]
  },
  {
   "cell_type": "markdown",
   "metadata": {},
   "source": [
    "Using:\n",
    "- `mins`\n",
    "- `maxs`"
   ]
  },
  {
   "cell_type": "markdown",
   "metadata": {},
   "source": [
    "Load in the previous table"
   ]
  },
  {
   "cell_type": "code",
   "execution_count": 14,
   "metadata": {},
   "outputs": [],
   "source": [
    "t:get `:table.dat"
   ]
  },
  {
   "cell_type": "code",
   "execution_count": 15,
   "metadata": {},
   "outputs": [
    {
     "data": {
      "text/plain": [
       "date       time         sym   qty  px      \n",
       "-------------------------------------------\n",
       "2018.01.01 00:15:10.196 amzn  1300 1223.615\n",
       "2018.01.01 01:34:45.302 googl 1000 1083.787\n",
       "2018.01.01 01:54:37.361 googl 1600 1074.933\n",
       "2018.01.01 02:05:52.546 aapl  6900 175.1493\n",
       "2018.01.01 02:53:20.115 aapl  2800 174.8195\n",
       "2018.01.01 03:35:37.788 aapl  400  173.0159\n",
       "2018.01.01 03:48:28.457 aapl  4000 175.5413\n",
       "2018.01.01 07:40:43.020 googl 5600 1098.675\n",
       "2018.01.01 08:44:38.047 amzn  2400 1209.28 \n",
       "2018.01.01 09:14:12.987 googl 3800 1082.261\n",
       "2018.01.01 10:43:04.620 amzn  1800 1195.35 \n",
       "2018.01.01 10:48:15.325 aapl  700  173.4972\n",
       "2018.01.01 11:08:25.067 googl 1400 1089.667\n",
       "2018.01.01 11:28:20.668 amzn  1700 1203.273\n",
       "2018.01.01 11:40:57.353 amzn  4100 1212.801\n",
       "2018.01.01 12:02:16.578 amzn  6600 1198.425\n",
       "2018.01.01 12:21:05.509 amzn  8800 1217.267\n",
       "2018.01.01 15:59:40.179 aapl  3700 173.8977\n",
       "2018.01.01 16:11:58.108 aapl  2100 176.9243\n",
       "2018.01.01 16:26:44.436 aapl  4500 176.5685\n",
       "..\n"
      ]
     },
     "execution_count": 15,
     "metadata": {},
     "output_type": "execute_result"
    }
   ],
   "source": [
    "t"
   ]
  },
  {
   "cell_type": "code",
   "execution_count": 16,
   "metadata": {},
   "outputs": [
    {
     "data": {
      "text/plain": [
       "px      \n",
       "--------\n",
       "175.1493\n",
       "174.8195\n",
       "173.0159\n",
       "173.0159\n",
       "173.0159\n",
       "173.0159\n",
       "173.0159\n",
       "173.0159\n",
       "173.0159\n",
       "173.0159\n",
       "172.1004\n",
       "172.1004\n",
       "172.1004\n",
       "172.1004\n",
       "172.1004\n",
       "172.1004\n",
       "172.1004\n",
       "172.1004\n",
       "172.1004\n",
       "172.1004\n",
       "..\n"
      ]
     },
     "execution_count": 16,
     "metadata": {},
     "output_type": "execute_result"
    }
   ],
   "source": [
    "select mins px from t where sym=`aapl"
   ]
  },
  {
   "cell_type": "code",
   "execution_count": 17,
   "metadata": {},
   "outputs": [
    {
     "data": {
      "text/plain": [
       "px       \n",
       "---------\n",
       "0        \n",
       "0        \n",
       "0        \n",
       "2.525382 \n",
       "0.4812909\n",
       "0.88179  \n",
       "3.908374 \n",
       "3.55261  \n",
       "0.2953645\n",
       "2.796859 \n",
       "0        \n",
       "1.367299 \n",
       "4.978216 \n",
       "0.7443358\n",
       "2.903455 \n",
       "3.562101 \n",
       "3.872722 \n",
       "4.222991 \n",
       "4.098728 \n",
       "2.027179 \n",
       "..\n"
      ]
     },
     "execution_count": 17,
     "metadata": {},
     "output_type": "execute_result"
    }
   ],
   "source": [
    "select px - mins px from t where sym=`aapl"
   ]
  },
  {
   "cell_type": "code",
   "execution_count": 18,
   "metadata": {},
   "outputs": [
    {
     "data": {
      "text/plain": [
       "px      \n",
       "--------\n",
       "5.133319\n"
      ]
     },
     "execution_count": 18,
     "metadata": {},
     "output_type": "execute_result"
    }
   ],
   "source": [
    "select max px - mins px from t where sym=`aapl"
   ]
  }
 ],
 "metadata": {
  "kernelspec": {
   "display_name": "Q (kdb+)",
   "language": "q",
   "name": "qpk"
  },
  "language_info": {
   "file_extension": ".q",
   "mimetype": "text/x-q",
   "name": "q",
   "version": "3.6.0"
  }
 },
 "nbformat": 4,
 "nbformat_minor": 2
}
