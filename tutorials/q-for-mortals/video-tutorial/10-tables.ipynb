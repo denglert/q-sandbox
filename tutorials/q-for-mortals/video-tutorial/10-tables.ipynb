{
 "cells": [
  {
   "cell_type": "markdown",
   "metadata": {},
   "source": [
    "Based on:\n",
    "- [Introduction to kdb+ and q #10: Tables (video)](https://www.youtube.com/watch?v=enAd43Ge2pY)"
   ]
  },
  {
   "cell_type": "markdown",
   "metadata": {},
   "source": [
    "Number of entries:"
   ]
  },
  {
   "cell_type": "code",
   "execution_count": 1,
   "metadata": {},
   "outputs": [],
   "source": [
    "//nentries:10000000"
   ]
  },
  {
   "cell_type": "code",
   "execution_count": 2,
   "metadata": {},
   "outputs": [],
   "source": [
    "nentries:1000"
   ]
  },
  {
   "cell_type": "markdown",
   "metadata": {},
   "source": [
    "**Random number generation (`a?b`)**"
   ]
  },
  {
   "cell_type": "markdown",
   "metadata": {},
   "source": [
    "Generate 10 random integers samples uniformly between 0 and 4."
   ]
  },
  {
   "cell_type": "code",
   "execution_count": 3,
   "metadata": {},
   "outputs": [
    {
     "data": {
      "text/plain": [
       "4 0 2 1 2 1 2 3 2 4\n"
      ]
     },
     "execution_count": 3,
     "metadata": {},
     "output_type": "execute_result"
    }
   ],
   "source": [
    "10?5"
   ]
  },
  {
   "cell_type": "markdown",
   "metadata": {},
   "source": [
    "Generate 10 random floats uniformly between 0 and 0.5."
   ]
  },
  {
   "cell_type": "code",
   "execution_count": 4,
   "metadata": {},
   "outputs": [
    {
     "data": {
      "text/plain": [
       "0.2892601 0.04194429 0.09799536 0.187819 0.3068726 0.2647404 0.3458049 0.1148..\n"
      ]
     },
     "execution_count": 4,
     "metadata": {},
     "output_type": "execute_result"
    }
   ],
   "source": [
    "10?0.5"
   ]
  },
  {
   "cell_type": "markdown",
   "metadata": {},
   "source": [
    "**Date (`date`)**"
   ]
  },
  {
   "cell_type": "markdown",
   "metadata": {},
   "source": [
    "Random dates between 2018.01.01 and 2018.01.31"
   ]
  },
  {
   "cell_type": "code",
   "execution_count": 5,
   "metadata": {},
   "outputs": [],
   "source": [
    "dates:2018.01.01+nentries?31"
   ]
  },
  {
   "cell_type": "code",
   "execution_count": 6,
   "metadata": {},
   "outputs": [
    {
     "data": {
      "text/plain": [
       "2018.01.10 2018.01.03 2018.01.08 2018.01.01 2018.01.18 2018.01.15 2018.01.10 ..\n"
      ]
     },
     "execution_count": 6,
     "metadata": {},
     "output_type": "execute_result"
    }
   ],
   "source": [
    "dates"
   ]
  },
  {
   "cell_type": "code",
   "execution_count": 7,
   "metadata": {},
   "outputs": [
    {
     "data": {
      "text/plain": [
       "1000\n"
      ]
     },
     "execution_count": 7,
     "metadata": {},
     "output_type": "execute_result"
    }
   ],
   "source": [
    "count dates"
   ]
  },
  {
   "cell_type": "markdown",
   "metadata": {},
   "source": [
    "**Time (`time`)**"
   ]
  },
  {
   "cell_type": "markdown",
   "metadata": {},
   "source": [
    "Random times between midnight and midnight"
   ]
  },
  {
   "cell_type": "code",
   "execution_count": 8,
   "metadata": {},
   "outputs": [],
   "source": [
    "times:nentries?24:00:00.0000"
   ]
  },
  {
   "cell_type": "code",
   "execution_count": 9,
   "metadata": {},
   "outputs": [
    {
     "data": {
      "text/plain": [
       "04:49:27.524 00:01:29.269 07:50:12.732 07:40:43.020 10:42:45.816 12:30:59.249..\n"
      ]
     },
     "execution_count": 9,
     "metadata": {},
     "output_type": "execute_result"
    }
   ],
   "source": [
    "times"
   ]
  },
  {
   "cell_type": "markdown",
   "metadata": {},
   "source": [
    "**Quantity (`qty`)**"
   ]
  },
  {
   "cell_type": "markdown",
   "metadata": {},
   "source": [
    "Random quantities in multiples of 100 between 100 and 10000"
   ]
  },
  {
   "cell_type": "code",
   "execution_count": 10,
   "metadata": {},
   "outputs": [],
   "source": [
    "qtys:100*(1+(nentries?100))"
   ]
  },
  {
   "cell_type": "markdown",
   "metadata": {},
   "source": [
    "Same as"
   ]
  },
  {
   "cell_type": "code",
   "execution_count": 11,
   "metadata": {},
   "outputs": [],
   "source": [
    "qtys:100*1+nentries?100"
   ]
  },
  {
   "cell_type": "code",
   "execution_count": 12,
   "metadata": {},
   "outputs": [
    {
     "data": {
      "text/plain": [
       "2300 1500 3100 5600 7300 3200 9200 2200 10000 1400 1500 3600 9400 6500 6200 4..\n"
      ]
     },
     "execution_count": 12,
     "metadata": {},
     "output_type": "execute_result"
    }
   ],
   "source": [
    "qtys"
   ]
  },
  {
   "cell_type": "markdown",
   "metadata": {},
   "source": [
    "Random integers between 0 and 2"
   ]
  },
  {
   "cell_type": "code",
   "execution_count": 13,
   "metadata": {},
   "outputs": [],
   "source": [
    "ixs:nentries?3"
   ]
  },
  {
   "cell_type": "code",
   "execution_count": 14,
   "metadata": {},
   "outputs": [
    {
     "data": {
      "text/plain": [
       "0 2 2 2 2 1 2 1 1 2 1 0 0 1 0 1 0 2 2 2 1 1 0 2 1 2 2 0 1 0 2 1 1 0 0 1 2 2 1..\n"
      ]
     },
     "execution_count": 14,
     "metadata": {},
     "output_type": "execute_result"
    }
   ],
   "source": [
    "ixs"
   ]
  },
  {
   "cell_type": "markdown",
   "metadata": {},
   "source": [
    "**Ticker symbols (`sym`)**"
   ]
  },
  {
   "cell_type": "markdown",
   "metadata": {},
   "source": [
    "Random symbols generated from the random indices above"
   ]
  },
  {
   "cell_type": "code",
   "execution_count": 15,
   "metadata": {},
   "outputs": [],
   "source": [
    "symlist:`aapl`amzn`googl"
   ]
  },
  {
   "cell_type": "code",
   "execution_count": 16,
   "metadata": {},
   "outputs": [
    {
     "data": {
      "text/plain": [
       "`aapl`amzn`googl\n"
      ]
     },
     "execution_count": 16,
     "metadata": {},
     "output_type": "execute_result"
    }
   ],
   "source": [
    "symlist"
   ]
  },
  {
   "cell_type": "markdown",
   "metadata": {},
   "source": [
    "`symlist` is a list of symbols"
   ]
  },
  {
   "cell_type": "code",
   "execution_count": 17,
   "metadata": {},
   "outputs": [
    {
     "data": {
      "text/plain": [
       "11h\n"
      ]
     },
     "execution_count": 17,
     "metadata": {},
     "output_type": "execute_result"
    }
   ],
   "source": [
    "type symlist"
   ]
  },
  {
   "cell_type": "markdown",
   "metadata": {},
   "source": [
    "Generate the `nentries` long list of symbols corresponding to the indices"
   ]
  },
  {
   "cell_type": "code",
   "execution_count": 18,
   "metadata": {},
   "outputs": [],
   "source": [
    "syms:`aapl`amzn`googl[ixs]"
   ]
  },
  {
   "cell_type": "code",
   "execution_count": 19,
   "metadata": {},
   "outputs": [
    {
     "data": {
      "text/plain": [
       "`aapl`googl`googl`googl`googl`amzn`googl`amzn`amzn`googl`amzn`aapl`aapl`amzn`..\n"
      ]
     },
     "execution_count": 19,
     "metadata": {},
     "output_type": "execute_result"
    }
   ],
   "source": [
    "syms"
   ]
  },
  {
   "cell_type": "markdown",
   "metadata": {},
   "source": [
    "You can leave out the brackets, `[]`:"
   ]
  },
  {
   "cell_type": "code",
   "execution_count": 20,
   "metadata": {},
   "outputs": [],
   "source": [
    "syms:`aapl`amzn`googl ixs"
   ]
  },
  {
   "cell_type": "code",
   "execution_count": 21,
   "metadata": {},
   "outputs": [
    {
     "data": {
      "text/plain": [
       "`aapl`googl`googl`googl`googl`amzn`googl`amzn`amzn`googl`amzn`aapl`aapl`amzn`..\n"
      ]
     },
     "execution_count": 21,
     "metadata": {},
     "output_type": "execute_result"
    }
   ],
   "source": [
    "syms"
   ]
  },
  {
   "cell_type": "code",
   "execution_count": 22,
   "metadata": {},
   "outputs": [
    {
     "data": {
      "text/plain": [
       "11h\n"
      ]
     },
     "execution_count": 22,
     "metadata": {},
     "output_type": "execute_result"
    }
   ],
   "source": [
    "type syms"
   ]
  },
  {
   "cell_type": "markdown",
   "metadata": {},
   "source": [
    "**Prices (`px`)** "
   ]
  },
  {
   "cell_type": "markdown",
   "metadata": {},
   "source": [
    "Minimum prices of aapl, amzn and googl"
   ]
  },
  {
   "cell_type": "code",
   "execution_count": 23,
   "metadata": {},
   "outputs": [],
   "source": [
    "min_pxs:172.0 1189.0 1073.0 ixs"
   ]
  },
  {
   "cell_type": "markdown",
   "metadata": {},
   "source": [
    "Multiply each minimum price by a random float between 1.0 and 1.03"
   ]
  },
  {
   "cell_type": "code",
   "execution_count": 24,
   "metadata": {},
   "outputs": [],
   "source": [
    "pxs:(1+nentries?.03)*172.0 1189.0 1073.0 ixs"
   ]
  },
  {
   "cell_type": "code",
   "execution_count": 25,
   "metadata": {},
   "outputs": [
    {
     "data": {
      "text/plain": [
       "175.2551 1097.472 1092.906 1098.675 1076.142 1189.412 1089.62 1207.967 1208.9..\n"
      ]
     },
     "execution_count": 25,
     "metadata": {},
     "output_type": "execute_result"
    }
   ],
   "source": [
    "pxs"
   ]
  },
  {
   "cell_type": "markdown",
   "metadata": {},
   "source": [
    "**Finally create the table**"
   ]
  },
  {
   "cell_type": "markdown",
   "metadata": {},
   "source": [
    "Syntax:\n",
    "~~~~\n",
    "([] colname1:col1; colname2:col2; ...; colnamen:coln)\n",
    "~~~~"
   ]
  },
  {
   "cell_type": "code",
   "execution_count": 26,
   "metadata": {},
   "outputs": [],
   "source": [
    "t:([] date:dates; time:times; sym:syms; qty:qtys; px:pxs)"
   ]
  },
  {
   "cell_type": "code",
   "execution_count": 27,
   "metadata": {},
   "outputs": [
    {
     "data": {
      "text/plain": [
       "date       time         sym   qty   px      \n",
       "--------------------------------------------\n",
       "2018.01.10 04:49:27.524 aapl  2300  175.2551\n",
       "2018.01.03 00:01:29.269 googl 1500  1097.472\n",
       "2018.01.08 07:50:12.732 googl 3100  1092.906\n",
       "2018.01.01 07:40:43.020 googl 5600  1098.675\n",
       "2018.01.18 10:42:45.816 googl 7300  1076.142\n",
       "2018.01.15 12:30:59.249 amzn  3200  1189.412\n",
       "2018.01.10 07:28:17.814 googl 9200  1089.62 \n",
       "2018.01.19 23:34:41.241 amzn  2200  1207.967\n",
       "2018.01.18 23:44:35.019 amzn  10000 1208.963\n",
       "2018.01.09 07:54:14.513 googl 1400  1087.146\n",
       "2018.01.25 12:13:26.031 amzn  1500  1220.896\n",
       "2018.01.14 16:34:27.313 aapl  3600  173.0285\n",
       "2018.01.31 20:48:34.553 aapl  9400  176.1641\n",
       "2018.01.18 23:10:03.653 amzn  6500  1216.967\n",
       "2018.01.27 03:30:15.416 aapl  6200  175.7006\n",
       "2018.01.24 03:28:41.342 amzn  4800  1197.718\n",
       "2018.01.28 07:30:21.934 aapl  1300  175.246 \n",
       "2018.01.13 14:12:54.049 googl 8500  1099.204\n",
       "2018.01.13 17:02:31.225 googl 4100  1093.655\n",
       "2018.01.03 10:04:22.023 googl 7200  1075.697\n",
       "..\n"
      ]
     },
     "execution_count": 27,
     "metadata": {},
     "output_type": "execute_result"
    }
   ],
   "source": [
    "t"
   ]
  },
  {
   "cell_type": "markdown",
   "metadata": {},
   "source": [
    "**Sort the table by date and time (`xasc`)**"
   ]
  },
  {
   "cell_type": "code",
   "execution_count": 28,
   "metadata": {},
   "outputs": [],
   "source": [
    "tsorted:`date`time xasc t"
   ]
  },
  {
   "cell_type": "code",
   "execution_count": 29,
   "metadata": {},
   "outputs": [
    {
     "data": {
      "text/plain": [
       "date       time         sym   qty  px      \n",
       "-------------------------------------------\n",
       "2018.01.01 00:15:10.196 amzn  1300 1223.615\n",
       "2018.01.01 01:34:45.302 googl 1000 1083.787\n",
       "2018.01.01 01:54:37.361 googl 1600 1074.933\n",
       "2018.01.01 02:05:52.546 aapl  6900 175.1493\n",
       "2018.01.01 02:53:20.115 aapl  2800 174.8195\n",
       "2018.01.01 03:35:37.788 aapl  400  173.0159\n",
       "2018.01.01 03:48:28.457 aapl  4000 175.5413\n",
       "2018.01.01 07:40:43.020 googl 5600 1098.675\n",
       "2018.01.01 08:44:38.047 amzn  2400 1209.28 \n",
       "2018.01.01 09:14:12.987 googl 3800 1082.261\n",
       "2018.01.01 10:43:04.620 amzn  1800 1195.35 \n",
       "2018.01.01 10:48:15.325 aapl  700  173.4972\n",
       "2018.01.01 11:08:25.067 googl 1400 1089.667\n",
       "2018.01.01 11:28:20.668 amzn  1700 1203.273\n",
       "2018.01.01 11:40:57.353 amzn  4100 1212.801\n",
       "2018.01.01 12:02:16.578 amzn  6600 1198.425\n",
       "2018.01.01 12:21:05.509 amzn  8800 1217.267\n",
       "2018.01.01 15:59:40.179 aapl  3700 173.8977\n",
       "2018.01.01 16:11:58.108 aapl  2100 176.9243\n",
       "2018.01.01 16:26:44.436 aapl  4500 176.5685\n",
       "..\n"
      ]
     },
     "execution_count": 29,
     "metadata": {},
     "output_type": "execute_result"
    }
   ],
   "source": [
    "tsorted"
   ]
  },
  {
   "cell_type": "markdown",
   "metadata": {},
   "source": [
    "**Show the first 5 items (with the help of the `#` operator)**"
   ]
  },
  {
   "cell_type": "code",
   "execution_count": 30,
   "metadata": {},
   "outputs": [
    {
     "data": {
      "text/plain": [
       "date       time         sym   qty  px      \n",
       "-------------------------------------------\n",
       "2018.01.01 00:15:10.196 amzn  1300 1223.615\n",
       "2018.01.01 01:34:45.302 googl 1000 1083.787\n",
       "2018.01.01 01:54:37.361 googl 1600 1074.933\n",
       "2018.01.01 02:05:52.546 aapl  6900 175.1493\n",
       "2018.01.01 02:53:20.115 aapl  2800 174.8195\n"
      ]
     },
     "execution_count": 30,
     "metadata": {},
     "output_type": "execute_result"
    }
   ],
   "source": [
    "5 # tsorted"
   ]
  },
  {
   "cell_type": "markdown",
   "metadata": {},
   "source": [
    "Save table in binary data format"
   ]
  },
  {
   "cell_type": "code",
   "execution_count": 31,
   "metadata": {},
   "outputs": [
    {
     "data": {
      "text/plain": [
       "`:table.dat\n"
      ]
     },
     "execution_count": 31,
     "metadata": {},
     "output_type": "execute_result"
    }
   ],
   "source": [
    "`:table.dat set tsorted"
   ]
  },
  {
   "cell_type": "markdown",
   "metadata": {},
   "source": [
    "Save table in csv format"
   ]
  },
  {
   "cell_type": "code",
   "execution_count": 32,
   "metadata": {},
   "outputs": [
    {
     "data": {
      "text/plain": [
       "`:table.csv\n"
      ]
     },
     "execution_count": 32,
     "metadata": {},
     "output_type": "execute_result"
    }
   ],
   "source": [
    "`:table.csv 0: csv 0: tsorted"
   ]
  }
 ],
 "metadata": {
  "kernelspec": {
   "display_name": "Q (kdb+)",
   "language": "q",
   "name": "qpk"
  },
  "language_info": {
   "file_extension": ".q",
   "mimetype": "text/x-q",
   "name": "q",
   "version": "3.6.0"
  }
 },
 "nbformat": 4,
 "nbformat_minor": 2
}
