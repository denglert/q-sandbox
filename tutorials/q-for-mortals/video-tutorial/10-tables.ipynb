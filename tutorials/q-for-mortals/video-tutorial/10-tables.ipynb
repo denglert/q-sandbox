{
 "cells": [
  {
   "cell_type": "markdown",
   "metadata": {},
   "source": [
    "Based on:\n",
    "- [Introduction to kdb+ and q #10: Tables](https://www.youtube.com/watch?v=enAd43Ge2pY)"
   ]
  },
  {
   "cell_type": "markdown",
   "metadata": {},
   "source": [
    "Number of entries:"
   ]
  },
  {
   "cell_type": "code",
   "execution_count": 1,
   "metadata": {},
   "outputs": [],
   "source": [
    "//nentries:10000000"
   ]
  },
  {
   "cell_type": "code",
   "execution_count": 2,
   "metadata": {},
   "outputs": [],
   "source": [
    "nentries:100"
   ]
  },
  {
   "cell_type": "markdown",
   "metadata": {},
   "source": [
    "**Random number generation (`a?b`)**"
   ]
  },
  {
   "cell_type": "markdown",
   "metadata": {},
   "source": [
    "Generate 10 random integers samples uniformly between 0 and 4."
   ]
  },
  {
   "cell_type": "code",
   "execution_count": 3,
   "metadata": {},
   "outputs": [
    {
     "data": {
      "text/plain": [
       "4 0 2 1 2 1 2 3 2 4\n"
      ]
     },
     "execution_count": 3,
     "metadata": {},
     "output_type": "execute_result"
    }
   ],
   "source": [
    "10?5"
   ]
  },
  {
   "cell_type": "markdown",
   "metadata": {},
   "source": [
    "Generate 10 random floats uniformly between 0 and 0.5."
   ]
  },
  {
   "cell_type": "code",
   "execution_count": 4,
   "metadata": {},
   "outputs": [
    {
     "data": {
      "text/plain": [
       "0.2892601 0.04194429 0.09799536 0.187819 0.3068726 0.2647404 0.3458049 0.1148..\n"
      ]
     },
     "execution_count": 4,
     "metadata": {},
     "output_type": "execute_result"
    }
   ],
   "source": [
    "10?0.5"
   ]
  },
  {
   "cell_type": "markdown",
   "metadata": {},
   "source": [
    "**Date (`date`)**"
   ]
  },
  {
   "cell_type": "markdown",
   "metadata": {},
   "source": [
    "Random dates between 2018.01.01 and 2018.01.31"
   ]
  },
  {
   "cell_type": "code",
   "execution_count": 5,
   "metadata": {},
   "outputs": [],
   "source": [
    "dates:2018.01.01+nentries?31"
   ]
  },
  {
   "cell_type": "code",
   "execution_count": 6,
   "metadata": {},
   "outputs": [
    {
     "data": {
      "text/plain": [
       "2018.01.10 2018.01.03 2018.01.08 2018.01.01 2018.01.18 2018.01.15 2018.01.10 ..\n"
      ]
     },
     "execution_count": 6,
     "metadata": {},
     "output_type": "execute_result"
    }
   ],
   "source": [
    "dates"
   ]
  },
  {
   "cell_type": "code",
   "execution_count": 7,
   "metadata": {},
   "outputs": [
    {
     "data": {
      "text/plain": [
       "100\n"
      ]
     },
     "execution_count": 7,
     "metadata": {},
     "output_type": "execute_result"
    }
   ],
   "source": [
    "count dates"
   ]
  },
  {
   "cell_type": "markdown",
   "metadata": {},
   "source": [
    "**Time (`time`)**"
   ]
  },
  {
   "cell_type": "markdown",
   "metadata": {},
   "source": [
    "Random times between midnight and midnight"
   ]
  },
  {
   "cell_type": "code",
   "execution_count": 8,
   "metadata": {},
   "outputs": [],
   "source": [
    "times:nentries?24:00:00.0000"
   ]
  },
  {
   "cell_type": "code",
   "execution_count": 9,
   "metadata": {},
   "outputs": [
    {
     "data": {
      "text/plain": [
       "12:09:01.385 12:46:01.193 20:45:52.274 20:27:08.197 13:05:50.541 23:37:45.628..\n"
      ]
     },
     "execution_count": 9,
     "metadata": {},
     "output_type": "execute_result"
    }
   ],
   "source": [
    "times"
   ]
  },
  {
   "cell_type": "markdown",
   "metadata": {},
   "source": [
    "**Quantity (`qty`)**"
   ]
  },
  {
   "cell_type": "markdown",
   "metadata": {},
   "source": [
    "Random quantities in multiples of 100 between 100 and 10000"
   ]
  },
  {
   "cell_type": "code",
   "execution_count": 10,
   "metadata": {},
   "outputs": [],
   "source": [
    "qtys:100*(1+(nentries?100))"
   ]
  },
  {
   "cell_type": "markdown",
   "metadata": {},
   "source": [
    "Same as"
   ]
  },
  {
   "cell_type": "code",
   "execution_count": 11,
   "metadata": {},
   "outputs": [],
   "source": [
    "qtys:100*1+nentries?100"
   ]
  },
  {
   "cell_type": "code",
   "execution_count": 12,
   "metadata": {},
   "outputs": [
    {
     "data": {
      "text/plain": [
       "4800 500 8600 2200 4800 2600 1900 5500 1200 500 7600 4300 9100 7100 2300 1800..\n"
      ]
     },
     "execution_count": 12,
     "metadata": {},
     "output_type": "execute_result"
    }
   ],
   "source": [
    "qtys"
   ]
  },
  {
   "cell_type": "markdown",
   "metadata": {},
   "source": [
    "Random integers between 0 and 2"
   ]
  },
  {
   "cell_type": "code",
   "execution_count": 13,
   "metadata": {},
   "outputs": [],
   "source": [
    "ixs:nentries?3"
   ]
  },
  {
   "cell_type": "code",
   "execution_count": 14,
   "metadata": {},
   "outputs": [
    {
     "data": {
      "text/plain": [
       "0 2 2 2 0 0 1 0 1 0 0 1 0 1 1 1 1 0 1 2 0 1 1 2 1 0 1 0 2 1 0 2 0 2 0 0 2 2 2..\n"
      ]
     },
     "execution_count": 14,
     "metadata": {},
     "output_type": "execute_result"
    }
   ],
   "source": [
    "ixs"
   ]
  },
  {
   "cell_type": "markdown",
   "metadata": {},
   "source": [
    "**Ticker symbols (`sym`)**"
   ]
  },
  {
   "cell_type": "markdown",
   "metadata": {},
   "source": [
    "Random symbols generated from the random indices above"
   ]
  },
  {
   "cell_type": "code",
   "execution_count": 15,
   "metadata": {},
   "outputs": [],
   "source": [
    "symlist:`aapl`amzn`googl"
   ]
  },
  {
   "cell_type": "code",
   "execution_count": 16,
   "metadata": {},
   "outputs": [
    {
     "data": {
      "text/plain": [
       "`aapl`amzn`googl\n"
      ]
     },
     "execution_count": 16,
     "metadata": {},
     "output_type": "execute_result"
    }
   ],
   "source": [
    "symlist"
   ]
  },
  {
   "cell_type": "markdown",
   "metadata": {},
   "source": [
    "`symlist` is a list of symbols"
   ]
  },
  {
   "cell_type": "code",
   "execution_count": 17,
   "metadata": {},
   "outputs": [
    {
     "data": {
      "text/plain": [
       "11h\n"
      ]
     },
     "execution_count": 17,
     "metadata": {},
     "output_type": "execute_result"
    }
   ],
   "source": [
    "type symlist"
   ]
  },
  {
   "cell_type": "markdown",
   "metadata": {},
   "source": [
    "Generate the `nentries` long list of symbols corresponding to the indices"
   ]
  },
  {
   "cell_type": "code",
   "execution_count": 18,
   "metadata": {},
   "outputs": [],
   "source": [
    "syms:`aapl`amzn`googl[ixs]"
   ]
  },
  {
   "cell_type": "code",
   "execution_count": 19,
   "metadata": {},
   "outputs": [
    {
     "data": {
      "text/plain": [
       "`aapl`googl`googl`googl`aapl`aapl`amzn`aapl`amzn`aapl`aapl`amzn`aapl`amzn`amz..\n"
      ]
     },
     "execution_count": 19,
     "metadata": {},
     "output_type": "execute_result"
    }
   ],
   "source": [
    "syms"
   ]
  },
  {
   "cell_type": "markdown",
   "metadata": {},
   "source": [
    "You can leave out the brackets, `[]`:"
   ]
  },
  {
   "cell_type": "code",
   "execution_count": 20,
   "metadata": {},
   "outputs": [],
   "source": [
    "syms:`aapl`amzn`googl ixs"
   ]
  },
  {
   "cell_type": "code",
   "execution_count": 21,
   "metadata": {},
   "outputs": [
    {
     "data": {
      "text/plain": [
       "`aapl`googl`googl`googl`aapl`aapl`amzn`aapl`amzn`aapl`aapl`amzn`aapl`amzn`amz..\n"
      ]
     },
     "execution_count": 21,
     "metadata": {},
     "output_type": "execute_result"
    }
   ],
   "source": [
    "syms"
   ]
  },
  {
   "cell_type": "code",
   "execution_count": 22,
   "metadata": {},
   "outputs": [
    {
     "data": {
      "text/plain": [
       "11h\n"
      ]
     },
     "execution_count": 22,
     "metadata": {},
     "output_type": "execute_result"
    }
   ],
   "source": [
    "type syms"
   ]
  },
  {
   "cell_type": "markdown",
   "metadata": {},
   "source": [
    "**Prices (`px`)** "
   ]
  },
  {
   "cell_type": "markdown",
   "metadata": {},
   "source": [
    "Minimum prices of aapl, amzn and googl"
   ]
  },
  {
   "cell_type": "code",
   "execution_count": 23,
   "metadata": {},
   "outputs": [],
   "source": [
    "min_pxs:172.0 1189.0 1073.0 ixs"
   ]
  },
  {
   "cell_type": "markdown",
   "metadata": {},
   "source": [
    "Multiply each minimum price by a random float between 1.0 and 1.03"
   ]
  },
  {
   "cell_type": "code",
   "execution_count": 24,
   "metadata": {},
   "outputs": [],
   "source": [
    "pxs:(1+nentries?.03)*172.0 1189.0 1073.0 ixs"
   ]
  },
  {
   "cell_type": "code",
   "execution_count": 25,
   "metadata": {},
   "outputs": [
    {
     "data": {
      "text/plain": [
       "173.2873 1073.684 1084.942 1101.968 175.6068 174.3946 1204.47 172.8965 1192.9..\n"
      ]
     },
     "execution_count": 25,
     "metadata": {},
     "output_type": "execute_result"
    }
   ],
   "source": [
    "pxs"
   ]
  },
  {
   "cell_type": "markdown",
   "metadata": {},
   "source": [
    "**Finally create the table**"
   ]
  },
  {
   "cell_type": "markdown",
   "metadata": {},
   "source": [
    "Syntax:\n",
    "~~~~\n",
    "([] colname1:col1; colname2:col2; ...; colnamen:coln)\n",
    "~~~~"
   ]
  },
  {
   "cell_type": "code",
   "execution_count": 26,
   "metadata": {},
   "outputs": [],
   "source": [
    "t:([] date:dates; time:times; sym:syms; qty:qtys; px:pxs)"
   ]
  },
  {
   "cell_type": "code",
   "execution_count": 27,
   "metadata": {},
   "outputs": [
    {
     "data": {
      "text/plain": [
       "date       time         sym   qty  px      \n",
       "-------------------------------------------\n",
       "2018.01.10 12:09:01.385 aapl  4800 173.2873\n",
       "2018.01.03 12:46:01.193 googl 500  1073.684\n",
       "2018.01.08 20:45:52.274 googl 8600 1084.942\n",
       "2018.01.01 20:27:08.197 googl 2200 1101.968\n",
       "2018.01.18 13:05:50.541 aapl  4800 175.6068\n",
       "2018.01.15 23:37:45.628 aapl  2600 174.3946\n",
       "2018.01.10 06:47:02.682 amzn  1900 1204.47 \n",
       "2018.01.19 21:45:30.452 aapl  5500 172.8965\n",
       "2018.01.18 11:25:53.445 amzn  1200 1192.995\n",
       "2018.01.09 16:21:14.910 aapl  500  172.2263\n",
       "2018.01.25 04:07:07.595 aapl  7600 173.511 \n",
       "2018.01.14 03:22:49.917 amzn  4300 1194.188\n",
       "2018.01.31 17:32:30.776 aapl  9100 175.2146\n",
       "2018.01.18 15:47:55.671 amzn  7100 1197.759\n",
       "2018.01.27 19:03:20.750 amzn  2300 1220.518\n",
       "2018.01.24 20:51:41.801 amzn  1800 1210.51 \n",
       "2018.01.28 12:07:21.998 amzn  6000 1218.118\n",
       "2018.01.13 18:21:05.161 aapl  5300 172.5888\n",
       "2018.01.13 20:25:58.509 amzn  1200 1218.126\n",
       "2018.01.03 11:35:13.719 googl 4600 1082.652\n",
       "..\n"
      ]
     },
     "execution_count": 27,
     "metadata": {},
     "output_type": "execute_result"
    }
   ],
   "source": [
    "t"
   ]
  },
  {
   "cell_type": "markdown",
   "metadata": {},
   "source": [
    "**Sort the table by date and time (`xasc`)**"
   ]
  },
  {
   "cell_type": "code",
   "execution_count": 28,
   "metadata": {},
   "outputs": [
    {
     "data": {
      "text/plain": [
       "date       time         sym   qty   px      \n",
       "--------------------------------------------\n",
       "2018.01.01 00:53:31.660 amzn  3800  1211.407\n",
       "2018.01.01 17:33:51.826 googl 3300  1090.956\n",
       "2018.01.01 20:27:08.197 googl 2200  1101.968\n",
       "2018.01.02 15:14:03.537 aapl  6400  174.1856\n",
       "2018.01.02 16:58:19.059 googl 1400  1095.106\n",
       "2018.01.03 05:27:55.434 amzn  10000 1213.419\n",
       "2018.01.03 08:47:53.561 aapl  700   176.6291\n",
       "2018.01.03 11:35:13.719 googl 4600  1082.652\n",
       "2018.01.03 12:46:01.193 googl 500   1073.684\n",
       "2018.01.03 23:37:44.795 googl 4200  1076.549\n",
       "2018.01.04 23:35:06.083 aapl  6300  174.8952\n",
       "2018.01.05 03:13:22.778 aapl  7100  172.3524\n",
       "2018.01.05 04:42:08.234 aapl  1500  172.2852\n",
       "2018.01.05 17:05:44.477 googl 1600  1101.989\n",
       "2018.01.06 01:26:29.905 amzn  2500  1192.228\n",
       "2018.01.06 16:17:39.845 aapl  8000  173.8114\n",
       "2018.01.07 05:08:40.857 aapl  4500  175.3328\n",
       "2018.01.07 11:31:10.263 aapl  8800  172.9475\n",
       "2018.01.07 13:09:01.552 amzn  6800  1224.046\n",
       "2018.01.07 19:21:40.832 googl 8600  1092.911\n",
       "..\n"
      ]
     },
     "execution_count": 28,
     "metadata": {},
     "output_type": "execute_result"
    }
   ],
   "source": [
    "`date`time xasc t"
   ]
  },
  {
   "cell_type": "markdown",
   "metadata": {},
   "source": [
    "**Show the first 5 items (with the help of the `#` operator)**"
   ]
  },
  {
   "cell_type": "code",
   "execution_count": 29,
   "metadata": {},
   "outputs": [
    {
     "data": {
      "text/plain": [
       "date       time         sym   qty  px      \n",
       "-------------------------------------------\n",
       "2018.01.10 12:09:01.385 aapl  4800 173.2873\n",
       "2018.01.03 12:46:01.193 googl 500  1073.684\n",
       "2018.01.08 20:45:52.274 googl 8600 1084.942\n",
       "2018.01.01 20:27:08.197 googl 2200 1101.968\n",
       "2018.01.18 13:05:50.541 aapl  4800 175.6068\n"
      ]
     },
     "execution_count": 29,
     "metadata": {},
     "output_type": "execute_result"
    }
   ],
   "source": [
    "5 # t"
   ]
  },
  {
   "cell_type": "code",
   "execution_count": 32,
   "metadata": {},
   "outputs": [
    {
     "data": {
      "text/plain": [
       "`:t.csv\n"
      ]
     },
     "execution_count": 32,
     "metadata": {},
     "output_type": "execute_result"
    }
   ],
   "source": [
    "save `:t.csv"
   ]
  },
  {
   "cell_type": "code",
   "execution_count": null,
   "metadata": {},
   "outputs": [],
   "source": []
  }
 ],
 "metadata": {
  "kernelspec": {
   "display_name": "Q (kdb+)",
   "language": "q",
   "name": "qpk"
  },
  "language_info": {
   "file_extension": ".q",
   "mimetype": "text/x-q",
   "name": "q",
   "version": "3.6.0"
  }
 },
 "nbformat": 4,
 "nbformat_minor": 2
}
